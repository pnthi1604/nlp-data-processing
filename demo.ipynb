{
 "cells": [
  {
   "cell_type": "code",
   "execution_count": 1,
   "metadata": {},
   "outputs": [],
   "source": [
    "from utils.create_noise import (\n",
    "    random_pos,\n",
    "    token_masking,\n",
    "    text_infilling,\n",
    "    document_rotation,\n",
    ")"
   ]
  },
  {
   "cell_type": "code",
   "execution_count": 2,
   "metadata": {},
   "outputs": [
    {
     "name": "stdout",
     "output_type": "stream",
     "text": [
      "[95, 69, 7, 73, 0, 90, 68, 80, 74, 67]\n"
     ]
    }
   ],
   "source": [
    "pos = random_pos(100, 0.1)\n",
    "print(pos)"
   ]
  },
  {
   "cell_type": "code",
   "execution_count": 3,
   "metadata": {},
   "outputs": [
    {
     "name": "stdout",
     "output_type": "stream",
     "text": [
      "I am <mask> student. I am learning in <mask> university. <mask> am a <mask> student. I am a good. adm adkmf asdf weiri <mask> xcvm qweur nxcvkzx aaldl. I am a student. I <mask> learning in the university. I am a good student. I am <mask> good. <mask> adkmf asdf weiri nvnk xcvm qweur nxcvkzx aaldl. <mask> <mask> a student. <mask> am learning in the university. I am a good student. I am a good. adm adkmf asdf weiri nvnk xcvm qweur nxcvkzx <mask>\n",
      "I am a student. I am learning in the university. I am a good student. I am a good. adm adkmf asdf weiri nvnk xcvm qweur nxcvkzx aaldl. I am a student. I am learning in the university. I am a good student. I am a good. adm adkmf asdf weiri nvnk xcvm qweur nxcvkzx aaldl. I am a student. <mask> learning in the university. I am a good student. I am a good. adm adkmf asdf weiri nvnk xcvm qweur nxcvkzx <mask>\n",
      "am learning in the university. I am a good student. I am a good. adm adkmf asdf weiri nvnk xcvm qweur nxcvkzx aaldl. I am a student. I am learning in the university. I am a good student. I am a good. adm adkmf asdf weiri nvnk xcvm qweur nxcvkzx aaldl. I am a student. I am learning in the university. I am a good student. I am a good. adm adkmf asdf weiri nvnk xcvm qweur nxcvkzx aaldl. I am a student. I\n"
     ]
    }
   ],
   "source": [
    "text = \"I am a student. I am learning in the university. I am a good student. I am a good. adm adkmf asdf weiri nvnk xcvm qweur nxcvkzx aaldl. I am a student. I am learning in the university. I am a good student. I am a good. adm adkmf asdf weiri nvnk xcvm qweur nxcvkzx aaldl. I am a student. I am learning in the university. I am a good student. I am a good. adm adkmf asdf weiri nvnk xcvm qweur nxcvkzx aaldl.\"\n",
    "print(token_masking(text=text))\n",
    "print(text_infilling(text=text))\n",
    "print(document_rotation(text=text))"
   ]
  },
  {
   "cell_type": "code",
   "execution_count": null,
   "metadata": {},
   "outputs": [],
   "source": []
  }
 ],
 "metadata": {
  "kernelspec": {
   "display_name": "Python 3",
   "language": "python",
   "name": "python3"
  },
  "language_info": {
   "codemirror_mode": {
    "name": "ipython",
    "version": 3
   },
   "file_extension": ".py",
   "mimetype": "text/x-python",
   "name": "python",
   "nbconvert_exporter": "python",
   "pygments_lexer": "ipython3",
   "version": "3.10.12"
  }
 },
 "nbformat": 4,
 "nbformat_minor": 2
}
