{
 "cells": [
  {
   "cell_type": "code",
   "execution_count": 1,
   "metadata": {},
   "outputs": [],
   "source": [
    "from utils.create_noise import (\n",
    "    random_pos,\n",
    "    token_masking,\n",
    "    text_infilling,\n",
    "    document_rotation,\n",
    ")"
   ]
  },
  {
   "cell_type": "code",
   "execution_count": 2,
   "metadata": {},
   "outputs": [
    {
     "name": "stdout",
     "output_type": "stream",
     "text": [
      "[91, 41, 19, 9, 72, 1, 88, 62, 49, 23]\n"
     ]
    }
   ],
   "source": [
    "pos = random_pos(100, 0.1)\n",
    "print(pos)"
   ]
  },
  {
   "cell_type": "code",
   "execution_count": 3,
   "metadata": {},
   "outputs": [
    {
     "name": "stdout",
     "output_type": "stream",
     "text": [
      "I <mask> a student. I am learning in the <mask> I am a good student. I <mask> <mask> good. adm adkmf asdf <mask> nvnk xcvm <mask> <mask> <mask> I am a student. I am learning <mask> <mask> university. I am a good student. I am a good. adm adkmf asdf weiri nvnk xcvm qweur nxcvkzx aaldl. I <mask> a student. I <mask> learning in the university. I am a good student. I am a good. adm adkmf asdf weiri nvnk xcvm qweur nxcvkzx aaldl.\n",
      "I am a student. I am learning in the university. I am a good student. I am a good. adm adkmf asdf weiri nvnk xcvm qweur nxcvkzx aaldl. I am a student. I am learning in the university. I am a good student. I am a good. adm adkmf asdf weiri nvnk xcvm qweur nxcvkzx aaldl. I am a student. <mask> am learning in the university. I am a good student. I am a good. adm adkmf asdf weiri nvnk xcvm <mask> nxcvkzx aaldl.\n",
      "am a good student. I am a good. adm adkmf asdf weiri nvnk xcvm qweur nxcvkzx aaldl. I am a student. I am learning in the university. I am a good student. I am a good. adm adkmf asdf weiri nvnk xcvm qweur nxcvkzx aaldl. I am a student. I am learning in the university. I am a good student. I am a good. adm adkmf asdf weiri nvnk xcvm qweur nxcvkzx aaldl. I am a student. I am learning in the university. I\n"
     ]
    }
   ],
   "source": [
    "text = \"I am a student. I am learning in the university. I am a good student. I am a good. adm adkmf asdf weiri nvnk xcvm qweur nxcvkzx aaldl. I am a student. I am learning in the university. I am a good student. I am a good. adm adkmf asdf weiri nvnk xcvm qweur nxcvkzx aaldl. I am a student. I am learning in the university. I am a good student. I am a good. adm adkmf asdf weiri nvnk xcvm qweur nxcvkzx aaldl.\"\n",
    "print(token_masking(text=text))\n",
    "print(text_infilling(text=text))\n",
    "print(document_rotation(text=text))"
   ]
  },
  {
   "cell_type": "code",
   "execution_count": null,
   "metadata": {},
   "outputs": [],
   "source": []
  }
 ],
 "metadata": {
  "kernelspec": {
   "display_name": "Python 3",
   "language": "python",
   "name": "python3"
  },
  "language_info": {
   "codemirror_mode": {
    "name": "ipython",
    "version": 3
   },
   "file_extension": ".py",
   "mimetype": "text/x-python",
   "name": "python",
   "nbconvert_exporter": "python",
   "pygments_lexer": "ipython3",
   "version": "3.10.12"
  }
 },
 "nbformat": 4,
 "nbformat_minor": 2
}
