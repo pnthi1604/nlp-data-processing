{
 "cells": [
  {
   "cell_type": "code",
   "execution_count": 1,
   "metadata": {},
   "outputs": [],
   "source": [
    "from utils.create_noise import (\n",
    "    random_pos,\n",
    "    token_masking,\n",
    "    text_infilling,\n",
    ")"
   ]
  },
  {
   "cell_type": "code",
   "execution_count": 2,
   "metadata": {},
   "outputs": [
    {
     "name": "stdout",
     "output_type": "stream",
     "text": [
      "[94, 95, 72, 69, 99, 3, 51, 31, 40, 35]\n"
     ]
    }
   ],
   "source": [
    "pos = random_pos(100, 0.1)\n",
    "print(pos)"
   ]
  },
  {
   "cell_type": "code",
   "execution_count": 3,
   "metadata": {},
   "outputs": [
    {
     "name": "stdout",
     "output_type": "stream",
     "text": [
      "I am a student. I am <mask> in the university. <mask> am a good student. I am a good. adm adkmf asdf weiri nvnk xcvm <mask> <mask> aaldl. <mask> am a student. I am learning <mask> <mask> university. I am a good <mask> I <mask> a <mask> adm adkmf asdf weiri nvnk xcvm qweur <mask> aaldl. I am a <mask> I am learning in the university. I am a good student. I am a good. adm adkmf asdf weiri nvnk xcvm qweur nxcvkzx aaldl.\n",
      "I am a student. I am learning in the university. I am a good student. I am a good. adm <mask> qweur nxcvkzx aaldl. I am a student. I am learning in the university. I am a good student. I am a good. adm adkmf asdf weiri nvnk xcvm qweur nxcvkzx aaldl. I am a student. I am learning in the university. I am a good <mask> am a <mask> nvnk xcvm qweur nxcvkzx aaldl. <mask>\n"
     ]
    }
   ],
   "source": [
    "text = \"I am a student. I am learning in the university. I am a good student. I am a good. adm adkmf asdf weiri nvnk xcvm qweur nxcvkzx aaldl. I am a student. I am learning in the university. I am a good student. I am a good. adm adkmf asdf weiri nvnk xcvm qweur nxcvkzx aaldl. I am a student. I am learning in the university. I am a good student. I am a good. adm adkmf asdf weiri nvnk xcvm qweur nxcvkzx aaldl.\"\n",
    "print(token_masking(text=text))\n",
    "print(text_infilling(text=text))"
   ]
  }
 ],
 "metadata": {
  "kernelspec": {
   "display_name": "Python 3",
   "language": "python",
   "name": "python3"
  },
  "language_info": {
   "codemirror_mode": {
    "name": "ipython",
    "version": 3
   },
   "file_extension": ".py",
   "mimetype": "text/x-python",
   "name": "python",
   "nbconvert_exporter": "python",
   "pygments_lexer": "ipython3",
   "version": "3.10.12"
  }
 },
 "nbformat": 4,
 "nbformat_minor": 2
}
