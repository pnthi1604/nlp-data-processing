{
 "cells": [
  {
   "cell_type": "code",
   "execution_count": 1,
   "metadata": {},
   "outputs": [],
   "source": [
    "text_1 = \"<mask> thông <mask> này <mask> <mask> <mask> kim <mask> <mask> chủ tịch <mask> <mask> <mask> bảo <mask> cho biết <mask> ubnd thành phố đã <mask> <mask> <mask> <mask> chức năng và ubnd <mask> <mask> lào <mask> hợp kiểm chứng thông <mask> <mask> qua <mask> minh , <mask> đất <mask> trinh chụp hình và đăng tải lên mạng <mask> <mask> <mask> <mask> 61 b\\’lao srê , <mask> đại <mask> . nhưng <mask> <mask> phải <mask> <mask> xây dựng homestay của ngọc trinh <mask>\""
   ]
  },
  {
   "cell_type": "code",
   "execution_count": 2,
   "metadata": {},
   "outputs": [],
   "source": [
    "text_2 = \"trước thông tin này , ông đoàn kim đình - chủ tịch ubnd thành phố bảo lộc cho biết , ubnd thành phố đã yêu cầu cơ quan chức năng và ubnd xã đại lào phối hợp kiểm chứng thông tin . qua xác minh , khu đất ngọc trinh chụp hình và đăng tải lên mạng xã hội thuộc hẻm 61 b’lao srê , xã đại lào . nhưng đây không phải là đất xây dựng homestay của ngọc trinh .\""
   ]
  },
  {
   "cell_type": "code",
   "execution_count": 5,
   "metadata": {},
   "outputs": [],
   "source": [
    "from utils.create_noise import token_masking"
   ]
  },
  {
   "cell_type": "code",
   "execution_count": 6,
   "metadata": {},
   "outputs": [],
   "source": [
    "text_tmp = token_masking(\n",
    "    text=text_2,\n",
    "    ratio=0.25\n",
    ")"
   ]
  },
  {
   "cell_type": "code",
   "execution_count": 7,
   "metadata": {},
   "outputs": [
    {
     "data": {
      "text/plain": [
       "0.24390243902439024"
      ]
     },
     "execution_count": 7,
     "metadata": {},
     "output_type": "execute_result"
    }
   ],
   "source": [
    "text_tmp.split().count(\"<mask>\") / len(text_2.split())"
   ]
  },
  {
   "cell_type": "code",
   "execution_count": null,
   "metadata": {},
   "outputs": [],
   "source": []
  }
 ],
 "metadata": {
  "kernelspec": {
   "display_name": "Python 3",
   "language": "python",
   "name": "python3"
  },
  "language_info": {
   "codemirror_mode": {
    "name": "ipython",
    "version": 3
   },
   "file_extension": ".py",
   "mimetype": "text/x-python",
   "name": "python",
   "nbconvert_exporter": "python",
   "pygments_lexer": "ipython3",
   "version": "3.10.12"
  }
 },
 "nbformat": 4,
 "nbformat_minor": 2
}
