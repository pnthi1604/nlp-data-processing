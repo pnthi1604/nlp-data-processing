{
 "cells": [
  {
   "cell_type": "code",
   "execution_count": 2,
   "metadata": {},
   "outputs": [],
   "source": [
    "from utils.create_noise import (\n",
    "    token_masking,\n",
    ")"
   ]
  },
  {
   "cell_type": "code",
   "execution_count": 16,
   "metadata": {},
   "outputs": [],
   "source": [
    "text = \"xung quanh an quý villa là hệ thống tiện ích nội ngoại khu đa dạng với: công viên hồ điều hòa trung tâm đến 12ha ; trung tâm thương mại aeon hà đông ; khu phố thương mại an phú shop - villa sầm uất ; hệ thống trường học , bệnh viện công , tư đa dạng , chất lượng cao… cư dân an quý villa sẽ được tận hưởng cuộc sống “bước chân là phố , mở cửa nhà là vườn xanh tươi” , mang đến những giây phút thư giãn , ý nghĩa .\""
   ]
  },
  {
   "cell_type": "code",
   "execution_count": 17,
   "metadata": {},
   "outputs": [],
   "source": [
    "res = token_masking(\n",
    "    text=text,\n",
    "    ratio=0.25,\n",
    ")"
   ]
  },
  {
   "cell_type": "code",
   "execution_count": 18,
   "metadata": {},
   "outputs": [
    {
     "data": {
      "text/plain": [
       "(97, 24)"
      ]
     },
     "execution_count": 18,
     "metadata": {},
     "output_type": "execute_result"
    }
   ],
   "source": [
    "sum_words = len(text.split())\n",
    "num_masked = 0\n",
    "for word in res.split():\n",
    "    if word == \"<mask>\":\n",
    "        num_masked += 1\n",
    "sum_words, num_masked"
   ]
  },
  {
   "cell_type": "code",
   "execution_count": 20,
   "metadata": {},
   "outputs": [
    {
     "data": {
      "text/plain": [
       "0.24742268041237114"
      ]
     },
     "execution_count": 20,
     "metadata": {},
     "output_type": "execute_result"
    }
   ],
   "source": [
    "24 / 97"
   ]
  },
  {
   "cell_type": "code",
   "execution_count": null,
   "metadata": {},
   "outputs": [],
   "source": []
  }
 ],
 "metadata": {
  "kernelspec": {
   "display_name": "Python 3",
   "language": "python",
   "name": "python3"
  },
  "language_info": {
   "codemirror_mode": {
    "name": "ipython",
    "version": 3
   },
   "file_extension": ".py",
   "mimetype": "text/x-python",
   "name": "python",
   "nbconvert_exporter": "python",
   "pygments_lexer": "ipython3",
   "version": "3.10.12"
  }
 },
 "nbformat": 4,
 "nbformat_minor": 2
}
